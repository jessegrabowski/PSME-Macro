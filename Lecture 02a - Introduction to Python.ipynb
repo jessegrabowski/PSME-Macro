{
 "cells": [
  {
   "cell_type": "markdown",
   "id": "ad4df6c4",
   "metadata": {
    "toc": true
   },
   "source": [
    "<h1>Table of Contents<span class=\"tocSkip\"></span></h1>\n",
    "<div class=\"toc\"><ul class=\"toc-item\"><li><span><a href=\"#Welcome\" data-toc-modified-id=\"Welcome-1\"><span class=\"toc-item-num\">1&nbsp;&nbsp;</span>Welcome</a></span></li><li><span><a href=\"#Absolute-basic-python\" data-toc-modified-id=\"Absolute-basic-python-2\"><span class=\"toc-item-num\">2&nbsp;&nbsp;</span>Absolute basic python</a></span><ul class=\"toc-item\"><li><span><a href=\"#Math-Functions\" data-toc-modified-id=\"Math-Functions-2.1\"><span class=\"toc-item-num\">2.1&nbsp;&nbsp;</span>Math Functions</a></span></li><li><span><a href=\"#Printing\" data-toc-modified-id=\"Printing-2.2\"><span class=\"toc-item-num\">2.2&nbsp;&nbsp;</span>Printing</a></span><ul class=\"toc-item\"><li><span><a href=\"#Assigment-1:-The-classic\" data-toc-modified-id=\"Assigment-1:-The-classic-2.2.1\"><span class=\"toc-item-num\">2.2.1&nbsp;&nbsp;</span>Assigment 1: The classic</a></span></li><li><span><a href=\"#fstrings\" data-toc-modified-id=\"fstrings-2.2.2\"><span class=\"toc-item-num\">2.2.2&nbsp;&nbsp;</span>fstrings</a></span></li></ul></li><li><span><a href=\"#Lists\" data-toc-modified-id=\"Lists-2.3\"><span class=\"toc-item-num\">2.3&nbsp;&nbsp;</span>Lists</a></span></li><li><span><a href=\"#Acessing-list-items\" data-toc-modified-id=\"Acessing-list-items-2.4\"><span class=\"toc-item-num\">2.4&nbsp;&nbsp;</span>Acessing list items</a></span><ul class=\"toc-item\"><li><span><a href=\"#Assignment-2:-Printing-the-length-of-a-list\" data-toc-modified-id=\"Assignment-2:-Printing-the-length-of-a-list-2.4.1\"><span class=\"toc-item-num\">2.4.1&nbsp;&nbsp;</span>Assignment 2: Printing the length of a list</a></span></li></ul></li><li><span><a href=\"#Adding-to-lists\" data-toc-modified-id=\"Adding-to-lists-2.5\"><span class=\"toc-item-num\">2.5&nbsp;&nbsp;</span>Adding to lists</a></span></li><li><span><a href=\"#The-list-function\" data-toc-modified-id=\"The-list-function-2.6\"><span class=\"toc-item-num\">2.6&nbsp;&nbsp;</span>The list function</a></span><ul class=\"toc-item\"><li><span><a href=\"#Assignment:-Save-some-typing!\" data-toc-modified-id=\"Assignment:-Save-some-typing!-2.6.1\"><span class=\"toc-item-num\">2.6.1&nbsp;&nbsp;</span>Assignment: Save some typing!</a></span></li><li><span><a href=\"#Ranges\" data-toc-modified-id=\"Ranges-2.6.2\"><span class=\"toc-item-num\">2.6.2&nbsp;&nbsp;</span>Ranges</a></span></li><li><span><a href=\"#Assignment:-List-of-numbers\" data-toc-modified-id=\"Assignment:-List-of-numbers-2.6.3\"><span class=\"toc-item-num\">2.6.3&nbsp;&nbsp;</span>Assignment: List of numbers</a></span></li></ul></li></ul></li><li><span><a href=\"#Loops\" data-toc-modified-id=\"Loops-3\"><span class=\"toc-item-num\">3&nbsp;&nbsp;</span>Loops</a></span><ul class=\"toc-item\"><li><span><a href=\"#For-Loops\" data-toc-modified-id=\"For-Loops-3.1\"><span class=\"toc-item-num\">3.1&nbsp;&nbsp;</span>For-Loops</a></span><ul class=\"toc-item\"><li><span><a href=\"#For-loop-with-range\" data-toc-modified-id=\"For-loop-with-range-3.1.1\"><span class=\"toc-item-num\">3.1.1&nbsp;&nbsp;</span>For-loop with <code>range</code></a></span></li><li><span><a href=\"#Assignment:-Combine-a-bunch-of-stuff\" data-toc-modified-id=\"Assignment:-Combine-a-bunch-of-stuff-3.1.2\"><span class=\"toc-item-num\">3.1.2&nbsp;&nbsp;</span>Assignment: Combine a bunch of stuff</a></span></li></ul></li></ul></li></ul></div>"
   ]
  },
  {
   "cell_type": "markdown",
   "id": "4ca4a27c",
   "metadata": {},
   "source": [
    "# Welcome\n",
    "\n",
    "Welcome to (perhaps) your first notebook. Notebooks are a great way to quickly work through code, and also share it with others. You can write code, add LaTeX equations, and even embed media. They also get really messy really quickly, so watch out for that."
   ]
  },
  {
   "cell_type": "markdown",
   "id": "6be3ae2d",
   "metadata": {},
   "source": [
    "# Absolute basic python\n",
    "\n",
    "Python comes with some absolute basic primitives for us to use: numbers (floats and integers), lists, and strings (text). There's more, but that's enough for now."
   ]
  },
  {
   "cell_type": "code",
   "execution_count": 3,
   "id": "825f3f82",
   "metadata": {},
   "outputs": [
    {
     "data": {
      "text/plain": [
       "2"
      ]
     },
     "execution_count": 3,
     "metadata": {},
     "output_type": "execute_result"
    }
   ],
   "source": [
    "# Here's a number\n",
    "x = 2\n",
    "x"
   ]
  },
  {
   "cell_type": "markdown",
   "id": "60338a96",
   "metadata": {},
   "source": [
    "## Math Functions\n",
    "\n",
    "Math works almost as you expect. The only \"gotcha\" is that 'to the power of' is written as `**`, not `^` like you might be used to."
   ]
  },
  {
   "cell_type": "code",
   "execution_count": 6,
   "id": "98be0148",
   "metadata": {},
   "outputs": [
    {
     "data": {
      "text/plain": [
       "4"
      ]
     },
     "execution_count": 6,
     "metadata": {},
     "output_type": "execute_result"
    }
   ],
   "source": [
    "x ** 2"
   ]
  },
  {
   "cell_type": "markdown",
   "id": "5ae1962c",
   "metadata": {},
   "source": [
    "Otherwise you have `+`, `-`, `*`, `/`, which all do what you hope they will."
   ]
  },
  {
   "cell_type": "code",
   "execution_count": 7,
   "id": "60890d1b",
   "metadata": {},
   "outputs": [
    {
     "name": "stdout",
     "output_type": "stream",
     "text": [
      "7\n",
      "0.6666666666666666\n",
      "20\n",
      "-2\n"
     ]
    }
   ],
   "source": [
    "print(x + 5)\n",
    "print(x / 3)\n",
    "print(x * 10)\n",
    "print(x - 4)"
   ]
  },
  {
   "cell_type": "markdown",
   "id": "dc1bf643",
   "metadata": {},
   "source": [
    "## Printing\n",
    "\n",
    "The function `print` writes something on the screen. You just saw how it worked in the previous cell. You can also print strings. Strings are declared by wrapping text with single quotes like this: `'hello'`, or double quotes, like this: `\"hello\"`. You can't mix and match, though! I recommend to always use double quotes. If you use single quotes, your code will break when you try to write a contraction, like don't, can't or won't."
   ]
  },
  {
   "cell_type": "code",
   "execution_count": 13,
   "id": "8ca70988",
   "metadata": {},
   "outputs": [
    {
     "name": "stdout",
     "output_type": "stream",
     "text": [
      "With single quotes, you couldn't print this string -- try it yourself!\n"
     ]
    }
   ],
   "source": [
    "print(\"With single quotes, you couldn't print this string -- try it yourself!\")"
   ]
  },
  {
   "cell_type": "markdown",
   "id": "ff15a935",
   "metadata": {},
   "source": [
    "### Assigment 1: The classic\n",
    "\n",
    "Print the string \"Hello World!\"."
   ]
  },
  {
   "cell_type": "code",
   "execution_count": null,
   "id": "0e2e4c43",
   "metadata": {},
   "outputs": [],
   "source": [
    "### Your code here"
   ]
  },
  {
   "cell_type": "markdown",
   "id": "d9e8d63f",
   "metadata": {},
   "source": [
    "### fstrings\n",
    "\n",
    "Just printing one thing is not so exciting. To print a mixture of text and numbers, you can use an fstring. To make an fstring, write `f` before the single or double quotes. Here are some examples "
   ]
  },
  {
   "cell_type": "code",
   "execution_count": 11,
   "id": "a577e8dd",
   "metadata": {},
   "outputs": [
    {
     "name": "stdout",
     "output_type": "stream",
     "text": [
      "The value of x is 5\n",
      "Twice x is 10\n",
      "x to the power of 10 is 9765625\n"
     ]
    }
   ],
   "source": [
    "x = 5\n",
    "power = 10\n",
    "\n",
    "print(f\"The value of x is {x}\")\n",
    "print(f\"Twice x is {x * 2}\")\n",
    "print(f\"x to the power of {power} is {x ** 10}\")"
   ]
  },
  {
   "cell_type": "markdown",
   "id": "d2ab07c8",
   "metadata": {},
   "source": [
    "## Lists\n",
    "\n",
    "Python lists are groups of objects. They are a conventient place to store data when you're working. You make a list by putting square brackets `[]` around some stuff. \"some stuff\" can also include nothing!"
   ]
  },
  {
   "cell_type": "code",
   "execution_count": 15,
   "id": "0f25c85f",
   "metadata": {},
   "outputs": [
    {
     "name": "stdout",
     "output_type": "stream",
     "text": [
      "['Jesse', 4, False]\n",
      "[]\n"
     ]
    }
   ],
   "source": [
    "my_list = ['Jesse', 4, False]\n",
    "print(my_list)\n",
    "\n",
    "empty_list = []\n",
    "print(empty_list)"
   ]
  },
  {
   "cell_type": "markdown",
   "id": "3481be49",
   "metadata": {},
   "source": [
    "## Acessing list items\n",
    "\n",
    "You can get a single item out of a list by asking for it's index. In Python, the first index is zero."
   ]
  },
  {
   "cell_type": "code",
   "execution_count": 16,
   "id": "ad06f341",
   "metadata": {},
   "outputs": [
    {
     "data": {
      "text/plain": [
       "'Jesse'"
      ]
     },
     "execution_count": 16,
     "metadata": {},
     "output_type": "execute_result"
    }
   ],
   "source": [
    "my_list[0]"
   ]
  },
  {
   "cell_type": "code",
   "execution_count": 17,
   "id": "da9c55bf",
   "metadata": {},
   "outputs": [
    {
     "data": {
      "text/plain": [
       "False"
      ]
     },
     "execution_count": 17,
     "metadata": {},
     "output_type": "execute_result"
    }
   ],
   "source": [
    "my_list[2]"
   ]
  },
  {
   "cell_type": "markdown",
   "id": "2ed254b9",
   "metadata": {},
   "source": [
    "If you ask for an index that doesn't exist, Python will bark at you. When Python barks at you, don't feel bad. It just wants to help. Read the error carefully, and it can tell you where you made a mistake. Here we have an \"IndexError\" on line 1, so we know the index `123456` is not valid."
   ]
  },
  {
   "cell_type": "code",
   "execution_count": 18,
   "id": "1f842ed7",
   "metadata": {},
   "outputs": [
    {
     "ename": "IndexError",
     "evalue": "list index out of range",
     "output_type": "error",
     "traceback": [
      "\u001b[1;31m---------------------------------------------------------------------------\u001b[0m",
      "\u001b[1;31mIndexError\u001b[0m                                Traceback (most recent call last)",
      "Input \u001b[1;32mIn [18]\u001b[0m, in \u001b[0;36m<cell line: 1>\u001b[1;34m()\u001b[0m\n\u001b[1;32m----> 1\u001b[0m \u001b[43mmy_list\u001b[49m\u001b[43m[\u001b[49m\u001b[38;5;241;43m123456\u001b[39;49m\u001b[43m]\u001b[49m\n",
      "\u001b[1;31mIndexError\u001b[0m: list index out of range"
     ]
    }
   ],
   "source": [
    "my_list[123456]"
   ]
  },
  {
   "cell_type": "markdown",
   "id": "a8d11b6e",
   "metadata": {},
   "source": [
    "To know how many items are in a list, use `len`"
   ]
  },
  {
   "cell_type": "code",
   "execution_count": 19,
   "id": "d4925800",
   "metadata": {},
   "outputs": [
    {
     "name": "stdout",
     "output_type": "stream",
     "text": [
      "3\n"
     ]
    }
   ],
   "source": [
    "print(len(my_list))"
   ]
  },
  {
   "cell_type": "markdown",
   "id": "b78cd418",
   "metadata": {},
   "source": [
    "### Assignment 2: Printing the length of a list\n",
    "\n",
    "Use an fstring to print the sentence, \"The length of my_list is 3\". "
   ]
  },
  {
   "cell_type": "code",
   "execution_count": 20,
   "id": "0bd0eadb",
   "metadata": {},
   "outputs": [],
   "source": [
    "### Your code here"
   ]
  },
  {
   "cell_type": "markdown",
   "id": "a5dde7e2",
   "metadata": {},
   "source": [
    "## Adding to lists\n",
    "\n",
    "Lists are great because they don't have a fixed length. You can keep adding stuff to them. To add stuff to them, use the `.append` method. A method is a function that's built into an object. It's like a tool that all lists come with. All objects in Python have built-in methods."
   ]
  },
  {
   "cell_type": "code",
   "execution_count": 21,
   "id": "ee8967df",
   "metadata": {},
   "outputs": [
    {
     "name": "stdout",
     "output_type": "stream",
     "text": [
      "[1, 2, 3]\n",
      "[1, 2, 3, 4]\n"
     ]
    }
   ],
   "source": [
    "new_list = [1, 2, 3]\n",
    "print(new_list)\n",
    "new_list.append(4)\n",
    "print(new_list)"
   ]
  },
  {
   "cell_type": "markdown",
   "id": "95a7e369",
   "metadata": {},
   "source": [
    "You can also add two lists together using `+`. Python lets you add all kinds of things!"
   ]
  },
  {
   "cell_type": "code",
   "execution_count": 22,
   "id": "4e1dd6ef",
   "metadata": {},
   "outputs": [
    {
     "name": "stdout",
     "output_type": "stream",
     "text": [
      "[1, 2, 3, 4, 5, 6]\n"
     ]
    }
   ],
   "source": [
    "list_1 = [1, 2, 3]\n",
    "list_2 = [4, 5, 6]\n",
    "print(list_1 + list_2)"
   ]
  },
  {
   "cell_type": "markdown",
   "id": "7460a1ce",
   "metadata": {},
   "source": [
    "## The list function\n",
    "\n",
    "There are always many ways to do something in Python. You can make a list by using square brackets `[]`. You can also use the `list()` function."
   ]
  },
  {
   "cell_type": "code",
   "execution_count": 27,
   "id": "742bafa9",
   "metadata": {},
   "outputs": [
    {
     "name": "stdout",
     "output_type": "stream",
     "text": [
      "[]\n",
      "[1]\n",
      "[1, 2, 3, 4]\n"
     ]
    }
   ],
   "source": [
    "new_list = list()\n",
    "print(new_list)\n",
    "new_list.append(1)\n",
    "print(new_list)\n",
    "new_list = new_list + [2, 3, 4]\n",
    "print(new_list)"
   ]
  },
  {
   "cell_type": "markdown",
   "id": "fd6fa73a",
   "metadata": {},
   "source": [
    "Maybe `list` doesn't look so useful in that example. It's power comes from transforming non-lists into lists. You can call `list` on a string, for example."
   ]
  },
  {
   "cell_type": "code",
   "execution_count": 29,
   "id": "1e6f48c0",
   "metadata": {},
   "outputs": [
    {
     "data": {
      "text/plain": [
       "['H', 'e', 'l', 'l', 'o', ',', ' ', 'W', 'o', 'r', 'l', 'd', '!']"
      ]
     },
     "execution_count": 29,
     "metadata": {},
     "output_type": "execute_result"
    }
   ],
   "source": [
    "s = 'Hello, World!'\n",
    "list(s)"
   ]
  },
  {
   "cell_type": "markdown",
   "id": "ccfbca11",
   "metadata": {},
   "source": [
    "### Assignment: Save some typing!\n",
    "\n",
    "Make a list that contains the 26 letters of the alphabet by using the `list` function on a string. Print the 8th letter."
   ]
  },
  {
   "cell_type": "code",
   "execution_count": 30,
   "id": "9dcb16cf",
   "metadata": {},
   "outputs": [],
   "source": [
    "### Your code here"
   ]
  },
  {
   "cell_type": "markdown",
   "id": "14847b7a",
   "metadata": {},
   "source": [
    "### Ranges\n",
    "\n",
    "You can make a range of numbers using the `range()` function. `range(10)` gives you the numbers 0-9."
   ]
  },
  {
   "cell_type": "code",
   "execution_count": 32,
   "id": "4c40b701",
   "metadata": {},
   "outputs": [
    {
     "data": {
      "text/plain": [
       "range(0, 10)"
      ]
     },
     "execution_count": 32,
     "metadata": {},
     "output_type": "execute_result"
    }
   ],
   "source": [
    "range(10)"
   ]
  },
  {
   "cell_type": "markdown",
   "id": "ce56a8c3",
   "metadata": {},
   "source": [
    "Uh oh, actually it gives you an `object` that is *capable* of giving you the numbers 0-9. To actually get a list of numbres, use the `list` function."
   ]
  },
  {
   "cell_type": "markdown",
   "id": "5e2f0806",
   "metadata": {},
   "source": [
    "### Assignment: List of numbers\n",
    "\n",
    "Create a list of numbers between 0 and 19 using a combination of `range` and `list`."
   ]
  },
  {
   "cell_type": "code",
   "execution_count": null,
   "id": "f8b92756",
   "metadata": {},
   "outputs": [],
   "source": [
    "### Your code here"
   ]
  },
  {
   "cell_type": "markdown",
   "id": "b911f017",
   "metadata": {},
   "source": [
    "# Loops\n",
    "\n",
    "Computers were inveted to do loops: repeated computation. If you master loops, you life will get a lot easier. Why do something in 2 hours when you can spend 2 weeks trying to automate it in Python?"
   ]
  },
  {
   "cell_type": "markdown",
   "id": "17495935",
   "metadata": {},
   "source": [
    "## For-Loops\n",
    "\n",
    "A for-loop goes over all the items in a list, one by one. Here's an example"
   ]
  },
  {
   "cell_type": "code",
   "execution_count": 31,
   "id": "81ba2e11",
   "metadata": {},
   "outputs": [
    {
     "name": "stdout",
     "output_type": "stream",
     "text": [
      "Hello Jesse!\n",
      "Hello Caleb!\n",
      "Hello Emily!\n",
      "Hello Kate!\n"
     ]
    }
   ],
   "source": [
    "students = ['Jesse', 'Caleb', 'Emily', 'Kate']\n",
    "for student in students:\n",
    "    print(f\"Hello {student}!\")"
   ]
  },
  {
   "cell_type": "markdown",
   "id": "ea94ae7e",
   "metadata": {},
   "source": [
    "The variable `student` can be called anything. It's a popular convention to call lists a plural, like \"students\", and the looping variable the singular form, \"student\".\n",
    "\n",
    "Good code means giving descriptive names to your variables. You should absolutely never call things `x`, `x1`, `x2`, and so on. You will forget what they mean. Even if you don't forget, God help the poor soul that has to look at your confusing program (that would be me, later in the semester.)"
   ]
  },
  {
   "cell_type": "markdown",
   "id": "bc40b4e4",
   "metadata": {},
   "source": [
    "### For-loop with `range`\n",
    "\n",
    "You don't need to call `list` first, you can directly use `range` to make a loop."
   ]
  },
  {
   "cell_type": "code",
   "execution_count": 34,
   "id": "12be4df5",
   "metadata": {},
   "outputs": [
    {
     "name": "stdout",
     "output_type": "stream",
     "text": [
      "0\n",
      "1\n",
      "2\n",
      "3\n"
     ]
    }
   ],
   "source": [
    "for i in range(4):\n",
    "    print(i)"
   ]
  },
  {
   "cell_type": "markdown",
   "id": "c61565c3",
   "metadata": {},
   "source": [
    "### Assignment: Combine a bunch of stuff\n",
    "\n",
    "Let's make a needlessly complex loop. Make a range of the length of the list `students`, then use an fstring to print \"Hello, {name}!\" by indexing the list with the value `i`. The output should be exactly the same as cell 31."
   ]
  },
  {
   "cell_type": "code",
   "execution_count": null,
   "id": "eec64262",
   "metadata": {},
   "outputs": [],
   "source": [
    "### Your code here"
   ]
  }
 ],
 "metadata": {
  "kernelspec": {
   "display_name": "Python 3 (ipykernel)",
   "language": "python",
   "name": "python3"
  },
  "language_info": {
   "codemirror_mode": {
    "name": "ipython",
    "version": 3
   },
   "file_extension": ".py",
   "mimetype": "text/x-python",
   "name": "python",
   "nbconvert_exporter": "python",
   "pygments_lexer": "ipython3",
   "version": "3.10.6"
  },
  "toc": {
   "base_numbering": 1,
   "nav_menu": {},
   "number_sections": true,
   "sideBar": true,
   "skip_h1_title": false,
   "title_cell": "Table of Contents",
   "title_sidebar": "Contents",
   "toc_cell": true,
   "toc_position": {},
   "toc_section_display": true,
   "toc_window_display": false
  }
 },
 "nbformat": 4,
 "nbformat_minor": 5
}
