{
 "cells": [
  {
   "cell_type": "markdown",
   "id": "f7d9f2cb",
   "metadata": {
    "toc": true
   },
   "source": [
    "<h1>Table of Contents<span class=\"tocSkip\"></span></h1>\n",
    "<div class=\"toc\"><ul class=\"toc-item\"><li><span><a href=\"#Introduction\" data-toc-modified-id=\"Introduction-1\"><span class=\"toc-item-num\">1&nbsp;&nbsp;</span>Introduction</a></span></li><li><span><a href=\"#The-Linear-Model\" data-toc-modified-id=\"The-Linear-Model-2\"><span class=\"toc-item-num\">2&nbsp;&nbsp;</span>The Linear Model</a></span><ul class=\"toc-item\"><li><span><a href=\"#Timing\" data-toc-modified-id=\"Timing-2.1\"><span class=\"toc-item-num\">2.1&nbsp;&nbsp;</span>Timing</a></span></li><li><span><a href=\"#Discussion:-How-can-the-Central-Bank-maximize-social-utility?\" data-toc-modified-id=\"Discussion:-How-can-the-Central-Bank-maximize-social-utility?-2.2\"><span class=\"toc-item-num\">2.2&nbsp;&nbsp;</span>Discussion: How can the Central Bank maximize social utility?</a></span></li></ul></li><li><span><a href=\"#The-Quadratic-Model\" data-toc-modified-id=\"The-Quadratic-Model-3\"><span class=\"toc-item-num\">3&nbsp;&nbsp;</span>The Quadratic Model</a></span><ul class=\"toc-item\"><li><ul class=\"toc-item\"><li><span><a href=\"#Solve-for-$\\mathbb-E[\\pi]$\" data-toc-modified-id=\"Solve-for-$\\mathbb-E[\\pi]$-3.0.1\"><span class=\"toc-item-num\">3.0.1&nbsp;&nbsp;</span>Solve for $\\mathbb E[\\pi]$</a></span><ul class=\"toc-item\"><li><span><a href=\"#Discussion:-Differences/Similarities-with-the-linear-result?\" data-toc-modified-id=\"Discussion:-Differences/Similarities-with-the-linear-result?-3.0.1.1\"><span class=\"toc-item-num\">3.0.1.1&nbsp;&nbsp;</span>Discussion: Differences/Similarities with the linear result?</a></span></li></ul></li><li><span><a href=\"#Solve-for-Expected-Utility\" data-toc-modified-id=\"Solve-for-Expected-Utility-3.0.2\"><span class=\"toc-item-num\">3.0.2&nbsp;&nbsp;</span>Solve for Expected Utility</a></span></li></ul></li></ul></li></ul></div>"
   ]
  },
  {
   "cell_type": "markdown",
   "id": "9bd01f24",
   "metadata": {},
   "source": [
    "# Introduction\n",
    "\n",
    "Barro-Gordon is a famous model about central bank *commitment*. It will be our bridge from deterministic models, where we simply write down macroeconomic equations, to a model with \"micro foundations\", where macroeconomic consequences happen as a result of agents in the economy behaving in a rational manner.\n",
    "\n",
    "It will also force us to think about timing rules within a static model. Rather than thinking about time in terms of \"time series\" we instead think about who chooses what, and when. This will have important consequences for the effectiveness of an activist central bank."
   ]
  },
  {
   "cell_type": "code",
   "execution_count": 1,
   "id": "413350f3",
   "metadata": {},
   "outputs": [],
   "source": [
    "%matplotlib inline\n",
    "\n",
    "import sympy as sp\n",
    "import numpy as np\n",
    "import matplotlib.pyplot as plt"
   ]
  },
  {
   "cell_type": "markdown",
   "id": "5c039db3",
   "metadata": {},
   "source": [
    "# The Linear Model\n",
    "\n",
    "The macroeconomy will be very simple: there is output, which households totally consume. Households are many and small, so their individual choices don't have macroeconomic consequences, and they can't coordinate. \n",
    "\n",
    "Economic output is a function of inflation and a stochastic output shock, $\\epsilon \\sim N(0, \\sigma_\\epsilon)$:\n",
    "\n",
    "$$y = y_n + a (\\pi - \\mathbb E[\\pi]) + \\epsilon$$\n",
    "\n",
    "The households will all individually choose what their expected inflation is. They will do this with full knowledge of the Central Bank's policy, which is given by the following utility function:\n",
    "\n",
    "$$U = \\lambda y + \\frac{1}{2}(\\pi)^2$$\n",
    "\n",
    "The central bank will direclty choose the inflation level $\\pi$ to maximize their utility function. \n",
    "\n",
    "Sympy can help us with the math."
   ]
  },
  {
   "cell_type": "code",
   "execution_count": 2,
   "id": "b769889f",
   "metadata": {},
   "outputs": [
    {
     "data": {
      "text/latex": [
       "$\\displaystyle \\lambda \\left(a \\left(- \\mathbb{E}[\\pi] + \\pi\\right) + y_{n} + ϵ\\right) - 0.5 \\pi^{2}$"
      ],
      "text/plain": [
       "\\lambda*(a*(-\\mathbb{E}[\\pi] + \\pi) + y_n + ϵ) - 0.5*\\pi**2"
      ]
     },
     "execution_count": 2,
     "metadata": {},
     "output_type": "execute_result"
    }
   ],
   "source": [
    "yn, a, λ, π, π_e, ϵ = sp.symbols(['y_n', 'a', '\\lambda', '\\pi', r'\\mathbb{E}[\\pi]', 'ϵ'])\n",
    "y = yn + a * (π - π_e) + ϵ\n",
    "U = λ * y - 0.5 * π ** 2\n",
    "U"
   ]
  },
  {
   "cell_type": "code",
   "execution_count": 3,
   "id": "ae04f708",
   "metadata": {},
   "outputs": [
    {
     "data": {
      "text/latex": [
       "$\\displaystyle \\lambda a$"
      ],
      "text/plain": [
       "\\lambda*a"
      ]
     },
     "execution_count": 3,
     "metadata": {},
     "output_type": "execute_result"
    }
   ],
   "source": [
    "π_star = sp.solve(U.diff(π), π)[0]\n",
    "π_star"
   ]
  },
  {
   "cell_type": "markdown",
   "id": "c6a33298",
   "metadata": {},
   "source": [
    "## Timing\n",
    "\n",
    "The Central Bank will act first in our model, acting as the Stackelberg leader. It will set $\\pi = \\pi^\\star = \\lambda a$, according to their utility function.\n",
    "\n",
    "Households know this utility function, so they will choose $\\mathbb E [\\pi] = \\pi^\\star = \\lambda a$. As a result, economic output will be:\n",
    "\n",
    "\n",
    "$$\\begin{align}y &= y_n + a(\\pi - \\mathbb E[\\pi]) + \\epsilon \\\\\n",
    "                 &= y_n + a(\\pi^\\star - \\pi^\\star) +\\epsilon \\\\\n",
    "                 &= y_n + \\epsilon \\end{align}$$\n",
    "                 \n",
    "What has happened? The central bank commited to non-zero inflation ($\\lambda a$), because they care about having positive growth (the first term in the utility function). But then households anticipated this action by the central bank, and caneled out the benefit! The net result is inflation with no growth -- a societial loss of utility!  \n",
    "\n",
    "\n",
    "We can compute expected utility by plugging $\\pi = \\mathbb E[\\pi] = \\pi^\\star$ into the utility function and take expectations. Noting that $\\mathbb E[\\epsilon] = 0$, we can use the `.subs` method to swap out variables for other variables in a sympy equation."
   ]
  },
  {
   "cell_type": "code",
   "execution_count": 4,
   "id": "1b9c08ec",
   "metadata": {},
   "outputs": [
    {
     "data": {
      "text/latex": [
       "$\\displaystyle - 0.5 \\lambda^{2} a^{2} + \\lambda y_{n}$"
      ],
      "text/plain": [
       "-0.5*\\lambda**2*a**2 + \\lambda*y_n"
      ]
     },
     "execution_count": 4,
     "metadata": {},
     "output_type": "execute_result"
    }
   ],
   "source": [
    "U.subs({π:π_star, π_e:π_star, ϵ:0})"
   ]
  },
  {
   "cell_type": "markdown",
   "id": "5ee5a7db",
   "metadata": {},
   "source": [
    "Compared to a situation where the central bank just chooses $\\pi = 0$, utility is reduced by $0.5 \\lambda^2 a^2$! "
   ]
  },
  {
   "cell_type": "markdown",
   "id": "93e0d44d",
   "metadata": {},
   "source": [
    "## Discussion: How can the Central Bank maximize social utility?\n",
    "\n",
    "Define social utility as the central bank's utility function/"
   ]
  },
  {
   "cell_type": "markdown",
   "id": "d75ada3d",
   "metadata": {},
   "source": [
    "# The Quadratic Model\n",
    "\n",
    "In the linear model, the bank only wants positive growth, at any cost. Perhaps it's more realistic to consider a bank that has a growth target, and uses inflation to either stimulate or cool off the economy. Instead of a utility function, define a **loss function**, which is negative utility:\n",
    "\n",
    "$$V = \\frac{1}{2}\\lambda(y - k) ^ 2 + \\frac{1}{2} \\pi^2$$\n",
    "\n",
    "Where $k$ is the target growth rate for the bank."
   ]
  },
  {
   "cell_type": "code",
   "execution_count": 5,
   "id": "271f338f",
   "metadata": {},
   "outputs": [],
   "source": [
    "k = sp.Symbol('k')"
   ]
  },
  {
   "cell_type": "code",
   "execution_count": 6,
   "id": "a196ec4c",
   "metadata": {},
   "outputs": [],
   "source": [
    "V = 0.5 * λ * (y - k) ** 2 + 0.5 * π ** 2"
   ]
  },
  {
   "cell_type": "markdown",
   "id": "99351f6c",
   "metadata": {},
   "source": [
    "Once again, let's let sympy solve the minimization problem for us."
   ]
  },
  {
   "cell_type": "code",
   "execution_count": 7,
   "id": "01567ee3",
   "metadata": {},
   "outputs": [
    {
     "data": {
      "text/latex": [
       "$\\displaystyle \\frac{\\lambda a \\left(\\mathbb{E}[\\pi] a + k - y_{n} - ϵ\\right)}{\\lambda a^{2} + 1.0}$"
      ],
      "text/plain": [
       "\\lambda*a*(\\mathbb{E}[\\pi]*a + k - y_n - ϵ)/(\\lambda*a**2 + 1.0)"
      ]
     },
     "execution_count": 7,
     "metadata": {},
     "output_type": "execute_result"
    }
   ],
   "source": [
    "π_star_quad = sp.solve(V.diff(π), π)[0]\n",
    "π_star_quad"
   ]
  },
  {
   "cell_type": "code",
   "execution_count": 8,
   "id": "888ffe77",
   "metadata": {},
   "outputs": [],
   "source": [
    "f_π_star = sp.lambdify([π_e, a, λ, k, yn, ϵ], π_star_quad)"
   ]
  },
  {
   "cell_type": "code",
   "execution_count": 9,
   "id": "0d6da529",
   "metadata": {},
   "outputs": [],
   "source": [
    "k_val = 6\n",
    "yn_val = 3\n",
    "λ_val = 1.5\n",
    "a_val = 0.8\n",
    "ϵ_val = 0\n",
    "\n",
    "π_e_val = np.linspace(0, 5, 100)"
   ]
  },
  {
   "cell_type": "code",
   "execution_count": 10,
   "id": "c9e956bd",
   "metadata": {},
   "outputs": [
    {
     "data": {
      "image/png": "[encoded data removed]",
      "text/plain": [
       "<Figure size 640x480 with 1 Axes>"
      ]
     },
     "metadata": {},
     "output_type": "display_data"
    }
   ],
   "source": [
    "fig, ax = plt.subplots()\n",
    "π_val = f_π_star(π_e_val, a_val, λ_val, k_val, yn_val, ϵ_val)\n",
    "ax.plot(π_e_val, π_val, label='Optimal Policy')\n",
    "ax.plot(π_e_val, π_e_val, ls='--', color='tab:red', label='$45^\\degree$ Line')\n",
    "\n",
    "equlibrium_idx = np.argmin((π_val - π_e_val) ** 2)\n",
    "ax.scatter(π_e_val[equlibrium_idx], π_val[equlibrium_idx], zorder=10)\n",
    "ax.hlines(π_val[equlibrium_idx], 0, π_e_val[equlibrium_idx], ls='--', color='black')\n",
    "ax.vlines(π_e_val[equlibrium_idx], 0, π_val[equlibrium_idx], ls='--', color='black')\n",
    "ax.set(xlabel = 'Expected Inflation', ylabel='Inflation', title='Optimal Central Bank Policy Function')\n",
    "ax.legend()\n",
    "plt.show()"
   ]
  },
  {
   "cell_type": "code",
   "execution_count": 11,
   "id": "722a8097",
   "metadata": {},
   "outputs": [
    {
     "name": "stdout",
     "output_type": "stream",
     "text": [
      "Equlibrium inflation: 3.59\n"
     ]
    }
   ],
   "source": [
    "equlibrium_π = π_val[equlibrium_idx]\n",
    "print(f'Equlibrium inflation: {equlibrium_π:0.2f}')"
   ]
  },
  {
   "cell_type": "code",
   "execution_count": 12,
   "id": "c5a9b483",
   "metadata": {},
   "outputs": [
    {
     "data": {
      "image/png": "[encoded data removed]",
      "text/plain": [
       "<Figure size 640x480 with 1 Axes>"
      ]
     },
     "metadata": {},
     "output_type": "display_data"
    }
   ],
   "source": [
    "rng = np.random.default_rng(sum([ord(x) for x in 'PSME-MACRO']))\n",
    "fig, ax = plt.subplots()\n",
    "σ_ϵ = 0.1\n",
    "ax.hist(f_π_star(equlibrium_π, a_val, λ_val, k_val, yn_val, rng.normal(loc=0, scale=σ_ϵ, size=10_000)), bins=50)\n",
    "ax.axvline(equlibrium_π, ls='--', color='black')\n",
    "ax.set(xlabel='Inflation', \n",
    "       title=f'Distribution of Inflation Rates, Given $\\pi^\\star = {equlibrium_π:0.2f}$ and $\\sigma_\\epsilon = {σ_ϵ}$')\n",
    "plt.show()"
   ]
  },
  {
   "cell_type": "markdown",
   "id": "641d2174",
   "metadata": {},
   "source": [
    "### Solve for $\\mathbb E[\\pi]$\n",
    "\n",
    "As before, we know the households will choose $\\mathbb E[\\pi] = \\pi^\\star$, because the central bank acts first, locks in a rate, and the households know the central bank loss function. Therefore, we have:"
   ]
  },
  {
   "cell_type": "code",
   "execution_count": 47,
   "id": "77683faa",
   "metadata": {},
   "outputs": [
    {
     "data": {
      "text/latex": [
       "$\\displaystyle \\lambda a \\left(k - y_{n}\\right)$"
      ],
      "text/plain": [
       "\\lambda*a*(k - y_n)"
      ]
     },
     "execution_count": 47,
     "metadata": {},
     "output_type": "execute_result"
    }
   ],
   "source": [
    "π_e_star = sp.solve(π_e - π_star_quad, π_e)[0].subs({ϵ:0})\n",
    "π_e_star"
   ]
  },
  {
   "cell_type": "markdown",
   "id": "cc7c48db",
   "metadata": {},
   "source": [
    "#### Discussion: Differences/Similarities with the linear result?"
   ]
  },
  {
   "cell_type": "markdown",
   "id": "17a5a3f6",
   "metadata": {},
   "source": [
    "### Solve for Expected Utility\n",
    "\n",
    "Utility is the negative of the loss function, so let's plug everything in and solve it."
   ]
  },
  {
   "cell_type": "code",
   "execution_count": 63,
   "id": "1dfc84b1",
   "metadata": {},
   "outputs": [
    {
     "data": {
      "text/latex": [
       "$\\displaystyle \\frac{\\lambda a \\left(\\lambda a^{2} \\left(k - y_{n}\\right) + k - y_{n} - ϵ\\right)}{\\lambda a^{2} + 1.0}$"
      ],
      "text/plain": [
       "\\lambda*a*(\\lambda*a**2*(k - y_n) + k - y_n - ϵ)/(\\lambda*a**2 + 1.0)"
      ]
     },
     "execution_count": 63,
     "metadata": {},
     "output_type": "execute_result"
    }
   ],
   "source": [
    "pi_subbed = π_star_quad.subs({π_e:π_e_star})\n",
    "pi_subbed"
   ]
  },
  {
   "cell_type": "code",
   "execution_count": 67,
   "id": "90e6cefa",
   "metadata": {},
   "outputs": [
    {
     "data": {
      "text/latex": [
       "$\\displaystyle - \\frac{1.0 \\lambda a ϵ}{\\lambda a^{2} + 1}$"
      ],
      "text/plain": [
       "-1.0*\\lambda*a*ϵ/(\\lambda*a**2 + 1)"
      ]
     },
     "execution_count": 67,
     "metadata": {},
     "output_type": "execute_result"
    }
   ],
   "source": []
  },
  {
   "cell_type": "code",
   "execution_count": 77,
   "id": "23b87663",
   "metadata": {},
   "outputs": [],
   "source": [
    "σ_ϵ = sp.Symbol('\\sigma_\\epsilon')\n",
    "E_V = (V.replace(π - π_e, (pi_subbed - π_e_star).simplify())\n",
    "       .replace(π, pi_subbed)\n",
    "       .expand()\n",
    "       .replace(ϵ ** 2, σ_ϵ ** 2)\n",
    "       .subs({ϵ:0})\n",
    "       .simplify())"
   ]
  },
  {
   "cell_type": "code",
   "execution_count": 92,
   "id": "c2d59b23",
   "metadata": {},
   "outputs": [
    {
     "data": {
      "text/latex": [
       "$\\displaystyle \\frac{\\lambda \\left(\\lambda^{2} a^{4} k^{2} - 2 \\lambda^{2} a^{4} k y_{n} + \\lambda^{2} a^{4} y_{n}^{2} + 2 \\lambda a^{2} k^{2} - 4 \\lambda a^{2} k y_{n} + 2 \\lambda a^{2} y_{n}^{2} + \\sigma_{\\epsilon}^{2} + k^{2} - 2 k y_{n} + y_{n}^{2}\\right)}{2 \\left(\\lambda a^{2} + 1\\right)}$"
      ],
      "text/plain": [
       "\\lambda*(\\lambda**2*a**4*k**2 - 2*\\lambda**2*a**4*k*y_n + \\lambda**2*a**4*y_n**2 + 2*\\lambda*a**2*k**2 - 4*\\lambda*a**2*k*y_n + 2*\\lambda*a**2*y_n**2 + \\sigma_\\epsilon**2 + k**2 - 2*k*y_n + y_n**2)/(2*(\\lambda*a**2 + 1))"
      ]
     },
     "execution_count": 92,
     "metadata": {},
     "output_type": "execute_result"
    }
   ],
   "source": [
    "sp.nsimplify(E_V).cancel().simplify()"
   ]
  },
  {
   "cell_type": "code",
   "execution_count": 78,
   "id": "97785b6b",
   "metadata": {},
   "outputs": [],
   "source": [
    "α = 1 / (1 + a **2 * λ)\n",
    "β = a * λ\n",
    "E_V_byhand = (0.5 * λ * (α**2 * σ_ϵ ** 2 + (yn - k) ** 2) + 0.5 * β ** 2 * (α ** 2 * σ_ϵ ** 2 + (k - yn) ** 2)).simplify()"
   ]
  },
  {
   "cell_type": "code",
   "execution_count": 100,
   "id": "24f8772c",
   "metadata": {},
   "outputs": [
    {
     "data": {
      "text/latex": [
       "$\\displaystyle \\frac{0.5 \\lambda \\left(\\sigma_{\\epsilon}^{2} + \\left(k - y_{n}\\right)^{2} \\left(\\lambda a^{2} + 1\\right)^{2}\\right)}{\\lambda a^{2} + 1}$"
      ],
      "text/plain": [
       "0.5*\\lambda*(\\sigma_\\epsilon**2 + (k - y_n)**2*(\\lambda*a**2 + 1)**2)/(\\lambda*a**2 + 1)"
      ]
     },
     "execution_count": 100,
     "metadata": {},
     "output_type": "execute_result"
    }
   ],
   "source": [
    "E_V_byhand"
   ]
  },
  {
   "cell_type": "code",
   "execution_count": 98,
   "id": "7c5de745",
   "metadata": {},
   "outputs": [
    {
     "data": {
      "text/latex": [
       "$\\displaystyle \\frac{\\lambda \\left(\\frac{\\lambda^{2} a^{4} k^{2}}{2} - \\lambda^{2} a^{4} k y_{n} + \\frac{\\lambda^{2} a^{4} y_{n}^{2}}{2} + \\lambda a^{2} k^{2} - 2 \\lambda a^{2} k y_{n} + \\lambda a^{2} y_{n}^{2} + \\frac{\\sigma_{\\epsilon}^{2}}{2} + \\frac{k^{2}}{2} - k y_{n} + \\frac{y_{n}^{2}}{2}\\right)}{\\lambda a^{2} + 1}$"
      ],
      "text/plain": [
       "\\lambda*(\\lambda**2*a**4*k**2/2 - \\lambda**2*a**4*k*y_n + \\lambda**2*a**4*y_n**2/2 + \\lambda*a**2*k**2 - 2*\\lambda*a**2*k*y_n + \\lambda*a**2*y_n**2 + \\sigma_\\epsilon**2/2 + k**2/2 - k*y_n + y_n**2/2)/(\\lambda*a**2 + 1)"
      ]
     },
     "execution_count": 98,
     "metadata": {},
     "output_type": "execute_result"
    }
   ],
   "source": [
    "sp.nsimplify(E_V_byhand.expand().cancel().simplify())"
   ]
  },
  {
   "cell_type": "code",
   "execution_count": 79,
   "id": "45f648a2",
   "metadata": {},
   "outputs": [
    {
     "data": {
      "text/plain": [
       "-0.29356926800344096"
      ]
     },
     "execution_count": 79,
     "metadata": {},
     "output_type": "execute_result"
    }
   ],
   "source": [
    "rvs = rng.normal(size=5)\n",
    "sp.lambdify([a, k, yn, σ_ϵ, λ], E_V)(*rvs)"
   ]
  },
  {
   "cell_type": "code",
   "execution_count": 80,
   "id": "f7ae1785",
   "metadata": {},
   "outputs": [
    {
     "data": {
      "text/plain": [
       "-0.2935692680034409"
      ]
     },
     "execution_count": 80,
     "metadata": {},
     "output_type": "execute_result"
    }
   ],
   "source": [
    "sp.lambdify([a, k, yn, σ_ϵ, λ], E_V_byhand)(*rvs)"
   ]
  },
  {
   "cell_type": "code",
   "execution_count": null,
   "id": "585172f3",
   "metadata": {},
   "outputs": [],
   "source": []
  }
 ],
 "metadata": {
  "kernelspec": {
   "display_name": "Python 3 (ipykernel)",
   "language": "python",
   "name": "python3"
  },
  "language_info": {
   "codemirror_mode": {
    "name": "ipython",
    "version": 3
   },
   "file_extension": ".py",
   "mimetype": "text/x-python",
   "name": "python",
   "nbconvert_exporter": "python",
   "pygments_lexer": "ipython3",
   "version": "3.10.6"
  },
  "toc": {
   "base_numbering": 1,
   "nav_menu": {},
   "number_sections": true,
   "sideBar": true,
   "skip_h1_title": false,
   "title_cell": "Table of Contents",
   "title_sidebar": "Contents",
   "toc_cell": true,
   "toc_position": {},
   "toc_section_display": true,
   "toc_window_display": false
  }
 },
 "nbformat": 4,
 "nbformat_minor": 5
}
